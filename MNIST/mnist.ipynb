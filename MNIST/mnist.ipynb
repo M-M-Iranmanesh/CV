{
 "cells": [
  {
   "cell_type": "code",
   "execution_count": 1,
   "metadata": {},
   "outputs": [],
   "source": [
    "import numpy as np\n",
    "import tensorflow\n",
    "from tensorflow.keras.models import Sequential\n",
    "from tensorflow.keras.layers import Dense, Dropout, Activation, Flatten\n",
    "from tensorflow.keras.layers import Conv2D, MaxPooling2D\n",
    "from tensorflow.keras.utils import to_categorical\n",
    "from tensorflow.keras.datasets import mnist"
   ]
  },
  {
   "cell_type": "code",
   "execution_count": 2,
   "metadata": {},
   "outputs": [
    {
     "name": "stdout",
     "output_type": "stream",
     "text": [
      "Downloading data from https://storage.googleapis.com/tensorflow/tf-keras-datasets/mnist.npz\n",
      "11493376/11490434 [==============================] - 13s 1us/step\n"
     ]
    }
   ],
   "source": [
    "(train_samples, train_labels), (test_samples, test_labels) = mnist.load_data() "
   ]
  },
  {
   "cell_type": "code",
   "execution_count": 3,
   "metadata": {},
   "outputs": [],
   "source": [
    "train_samples = train_samples.reshape(train_samples.shape [0], 28, 28, 1) \n",
    "test_samples = test_samples.reshape(test_samples.shape [0], 28, 28, 1) \n",
    "train_samples = train_samples.astype('float32')\n",
    "test_samples = test_samples.astype('float32') \n",
    "train_samples = train_samples/255 \n",
    "test_samples = test_samples/255 "
   ]
  },
  {
   "cell_type": "code",
   "execution_count": 4,
   "metadata": {},
   "outputs": [],
   "source": [
    "c_train_labels = to_categorical(train_labels, 10) \n",
    "c_test_labels = to_categorical(test_labels, 10) "
   ]
  },
  {
   "cell_type": "code",
   "execution_count": 5,
   "metadata": {},
   "outputs": [],
   "source": [
    "convnet = Sequential()\n",
    "convnet.add(Conv2D(32, (4, 4), activation='relu', input_shape=(28,28,1)))\n",
    "convnet.add(MaxPooling2D(pool_size=(2,2)))\n",
    "convnet.add(Conv2D(32, (3, 3), activation='relu'))\n",
    "convnet.add(MaxPooling2D(pool_size=(2,2)))\n",
    "convnet.add(Dropout(0.3))\n",
    "convnet.add(Flatten())\n",
    "convnet.add(Dense(10, activation='softmax')) "
   ]
  },
  {
   "cell_type": "code",
   "execution_count": 9,
   "metadata": {},
   "outputs": [],
   "source": [
    "convnet.compile(loss='categorical_crossentropy', optimizer='adam', metrics=['accuracy']) "
   ]
  },
  {
   "cell_type": "code",
   "execution_count": 10,
   "metadata": {},
   "outputs": [
    {
     "name": "stdout",
     "output_type": "stream",
     "text": [
      "Epoch 1/20\n",
      "1875/1875 [==============================] - 34s 18ms/step - loss: 0.1326 - accuracy: 0.9597\n",
      "Epoch 2/20\n",
      "1875/1875 [==============================] - 34s 18ms/step - loss: 0.0666 - accuracy: 0.9797\n",
      "Epoch 3/20\n",
      "1875/1875 [==============================] - 34s 18ms/step - loss: 0.0537 - accuracy: 0.9834\n",
      "Epoch 4/20\n",
      "1875/1875 [==============================] - 34s 18ms/step - loss: 0.0458 - accuracy: 0.9858\n",
      "Epoch 5/20\n",
      "1875/1875 [==============================] - 34s 18ms/step - loss: 0.0406 - accuracy: 0.9873\n",
      "Epoch 6/20\n",
      "1875/1875 [==============================] - 34s 18ms/step - loss: 0.0376 - accuracy: 0.9876\n",
      "Epoch 7/20\n",
      "1875/1875 [==============================] - 34s 18ms/step - loss: 0.0348 - accuracy: 0.9886\n",
      "Epoch 8/20\n",
      "1875/1875 [==============================] - 35s 19ms/step - loss: 0.0318 - accuracy: 0.9897\n",
      "Epoch 9/20\n",
      "1875/1875 [==============================] - 35s 18ms/step - loss: 0.0288 - accuracy: 0.9909\n",
      "Epoch 10/20\n",
      "1875/1875 [==============================] - 34s 18ms/step - loss: 0.0275 - accuracy: 0.9910\n",
      "Epoch 11/20\n",
      "1875/1875 [==============================] - 34s 18ms/step - loss: 0.0273 - accuracy: 0.9915\n",
      "Epoch 12/20\n",
      "1875/1875 [==============================] - 34s 18ms/step - loss: 0.0246 - accuracy: 0.9918\n",
      "Epoch 13/20\n",
      "1875/1875 [==============================] - 34s 18ms/step - loss: 0.0256 - accuracy: 0.9915\n",
      "Epoch 14/20\n",
      "1875/1875 [==============================] - 34s 18ms/step - loss: 0.0240 - accuracy: 0.9916\n",
      "Epoch 15/20\n",
      "1875/1875 [==============================] - 34s 18ms/step - loss: 0.0223 - accuracy: 0.9923\n",
      "Epoch 16/20\n",
      "1875/1875 [==============================] - 35s 19ms/step - loss: 0.0212 - accuracy: 0.9931\n",
      "Epoch 17/20\n",
      "1875/1875 [==============================] - 35s 19ms/step - loss: 0.0198 - accuracy: 0.9934\n",
      "Epoch 18/20\n",
      "1875/1875 [==============================] - 35s 19ms/step - loss: 0.0200 - accuracy: 0.9929\n",
      "Epoch 19/20\n",
      "1875/1875 [==============================] - 36s 19ms/step - loss: 0.0191 - accuracy: 0.9937\n",
      "Epoch 20/20\n",
      "1875/1875 [==============================] - 34s 18ms/step - loss: 0.0183 - accuracy: 0.9940\n"
     ]
    },
    {
     "data": {
      "text/plain": [
       "<tensorflow.python.keras.callbacks.History at 0x20b87b1bac8>"
      ]
     },
     "execution_count": 10,
     "metadata": {},
     "output_type": "execute_result"
    }
   ],
   "source": [
    "convnet.fit(train_samples, c_train_labels, batch_size=32, epochs=20, verbose=1) "
   ]
  },
  {
   "cell_type": "code",
   "execution_count": 11,
   "metadata": {},
   "outputs": [
    {
     "name": "stdout",
     "output_type": "stream",
     "text": [
      "313/313 [==============================] - 2s 6ms/step - loss: 0.0262 - accuracy: 0.9925\n",
      "\n",
      "accuracy: 99.25%\n"
     ]
    }
   ],
   "source": [
    "metrics = convnet.evaluate(test_samples, c_test_labels, verbose=1) \n",
    "print()\n",
    "print(\"%s: %.2f%%\" % (convnet.metrics_names[1], metrics[1]*100)) \n",
    "predictions = convnet.predict(test_samples) "
   ]
  },
  {
   "cell_type": "code",
   "execution_count": null,
   "metadata": {},
   "outputs": [],
   "source": []
  }
 ],
 "metadata": {
  "kernelspec": {
   "display_name": "Python 3",
   "language": "python",
   "name": "python3"
  },
  "language_info": {
   "codemirror_mode": {
    "name": "ipython",
    "version": 3
   },
   "file_extension": ".py",
   "mimetype": "text/x-python",
   "name": "python",
   "nbconvert_exporter": "python",
   "pygments_lexer": "ipython3",
   "version": "3.7.6"
  }
 },
 "nbformat": 4,
 "nbformat_minor": 4
}
